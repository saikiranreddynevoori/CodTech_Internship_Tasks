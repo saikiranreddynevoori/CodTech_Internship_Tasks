{
 "cells": [
  {
   "cell_type": "code",
   "execution_count": 1,
   "id": "65fd366f-3692-4729-bbff-621bf1b93471",
   "metadata": {},
   "outputs": [
    {
     "name": "stdout",
     "output_type": "stream",
     "text": [
      "Requirement already satisfied: pandas in c:\\users\\saiki\\anaconda3\\lib\\site-packages (2.2.2)\n",
      "Collecting fpdf\n",
      "  Downloading fpdf-1.7.2.tar.gz (39 kB)\n",
      "  Preparing metadata (setup.py): started\n",
      "  Preparing metadata (setup.py): finished with status 'done'\n",
      "Collecting reportlab\n",
      "  Downloading reportlab-4.4.1-py3-none-any.whl.metadata (1.8 kB)\n",
      "Requirement already satisfied: openpyxl in c:\\users\\saiki\\anaconda3\\lib\\site-packages (3.1.2)\n",
      "Requirement already satisfied: numpy>=1.26.0 in c:\\users\\saiki\\anaconda3\\lib\\site-packages (from pandas) (1.26.4)\n",
      "Requirement already satisfied: python-dateutil>=2.8.2 in c:\\users\\saiki\\anaconda3\\lib\\site-packages (from pandas) (2.9.0.post0)\n",
      "Requirement already satisfied: pytz>=2020.1 in c:\\users\\saiki\\anaconda3\\lib\\site-packages (from pandas) (2024.1)\n",
      "Requirement already satisfied: tzdata>=2022.7 in c:\\users\\saiki\\anaconda3\\lib\\site-packages (from pandas) (2023.3)\n",
      "Requirement already satisfied: pillow>=9.0.0 in c:\\users\\saiki\\anaconda3\\lib\\site-packages (from reportlab) (10.3.0)\n",
      "Requirement already satisfied: chardet in c:\\users\\saiki\\anaconda3\\lib\\site-packages (from reportlab) (4.0.0)\n",
      "Requirement already satisfied: et-xmlfile in c:\\users\\saiki\\anaconda3\\lib\\site-packages (from openpyxl) (1.1.0)\n",
      "Requirement already satisfied: six>=1.5 in c:\\users\\saiki\\anaconda3\\lib\\site-packages (from python-dateutil>=2.8.2->pandas) (1.16.0)\n",
      "Downloading reportlab-4.4.1-py3-none-any.whl (2.0 MB)\n",
      "   ---------------------------------------- 0.0/2.0 MB ? eta -:--:--\n",
      "    --------------------------------------- 0.0/2.0 MB 2.0 MB/s eta 0:00:01\n",
      "   ---- ----------------------------------- 0.2/2.0 MB 3.5 MB/s eta 0:00:01\n",
      "   ------- -------------------------------- 0.4/2.0 MB 2.9 MB/s eta 0:00:01\n",
      "   --------- ------------------------------ 0.5/2.0 MB 3.0 MB/s eta 0:00:01\n",
      "   ----------- ---------------------------- 0.6/2.0 MB 2.7 MB/s eta 0:00:01\n",
      "   --------------- ------------------------ 0.7/2.0 MB 2.9 MB/s eta 0:00:01\n",
      "   ---------------- ----------------------- 0.8/2.0 MB 2.8 MB/s eta 0:00:01\n",
      "   ------------------ --------------------- 0.9/2.0 MB 2.6 MB/s eta 0:00:01\n",
      "   ------------------- -------------------- 0.9/2.0 MB 2.4 MB/s eta 0:00:01\n",
      "   -------------------- ------------------- 1.0/2.0 MB 2.3 MB/s eta 0:00:01\n",
      "   ---------------------- ----------------- 1.1/2.0 MB 2.3 MB/s eta 0:00:01\n",
      "   ---------------------- ----------------- 1.1/2.0 MB 2.3 MB/s eta 0:00:01\n",
      "   -------------------------- ------------- 1.3/2.0 MB 2.2 MB/s eta 0:00:01\n",
      "   ---------------------------- ----------- 1.4/2.0 MB 2.2 MB/s eta 0:00:01\n",
      "   ---------------------------------- ----- 1.7/2.0 MB 2.6 MB/s eta 0:00:01\n",
      "   ------------------------------------ --- 1.8/2.0 MB 2.5 MB/s eta 0:00:01\n",
      "   ---------------------------------------  1.9/2.0 MB 2.5 MB/s eta 0:00:01\n",
      "   ---------------------------------------  1.9/2.0 MB 2.5 MB/s eta 0:00:01\n",
      "   ---------------------------------------- 2.0/2.0 MB 2.4 MB/s eta 0:00:00\n",
      "Building wheels for collected packages: fpdf\n",
      "  Building wheel for fpdf (setup.py): started\n",
      "  Building wheel for fpdf (setup.py): finished with status 'done'\n",
      "  Created wheel for fpdf: filename=fpdf-1.7.2-py2.py3-none-any.whl size=40713 sha256=bf846735c77d218f7aa3d7ef99c3fc10d8b5cfed5bcb0542a2e08c0d827d49af\n",
      "  Stored in directory: c:\\users\\saiki\\appdata\\local\\pip\\cache\\wheels\\6e\\62\\11\\dc73d78e40a218ad52e7451f30166e94491be013a7850b5d75\n",
      "Successfully built fpdf\n",
      "Installing collected packages: fpdf, reportlab\n",
      "Successfully installed fpdf-1.7.2 reportlab-4.4.1\n"
     ]
    }
   ],
   "source": [
    "!pip install pandas fpdf reportlab openpyxl"
   ]
  },
  {
   "cell_type": "code",
   "execution_count": 3,
   "id": "c9f56a2a-9b2c-4ca6-8855-c8cd8150911c",
   "metadata": {},
   "outputs": [
    {
     "data": {
      "text/html": [
       "<div>\n",
       "<style scoped>\n",
       "    .dataframe tbody tr th:only-of-type {\n",
       "        vertical-align: middle;\n",
       "    }\n",
       "\n",
       "    .dataframe tbody tr th {\n",
       "        vertical-align: top;\n",
       "    }\n",
       "\n",
       "    .dataframe thead th {\n",
       "        text-align: right;\n",
       "    }\n",
       "</style>\n",
       "<table border=\"1\" class=\"dataframe\">\n",
       "  <thead>\n",
       "    <tr style=\"text-align: right;\">\n",
       "      <th></th>\n",
       "      <th>Name</th>\n",
       "      <th>Department</th>\n",
       "      <th>Performance Score</th>\n",
       "      <th>Attendance (%)</th>\n",
       "    </tr>\n",
       "  </thead>\n",
       "  <tbody>\n",
       "    <tr>\n",
       "      <th>0</th>\n",
       "      <td>Alice</td>\n",
       "      <td>HR</td>\n",
       "      <td>85</td>\n",
       "      <td>96</td>\n",
       "    </tr>\n",
       "    <tr>\n",
       "      <th>1</th>\n",
       "      <td>Bob</td>\n",
       "      <td>IT</td>\n",
       "      <td>92</td>\n",
       "      <td>88</td>\n",
       "    </tr>\n",
       "    <tr>\n",
       "      <th>2</th>\n",
       "      <td>Charlie</td>\n",
       "      <td>Finance</td>\n",
       "      <td>78</td>\n",
       "      <td>90</td>\n",
       "    </tr>\n",
       "    <tr>\n",
       "      <th>3</th>\n",
       "      <td>David</td>\n",
       "      <td>Marketing</td>\n",
       "      <td>88</td>\n",
       "      <td>95</td>\n",
       "    </tr>\n",
       "  </tbody>\n",
       "</table>\n",
       "</div>"
      ],
      "text/plain": [
       "      Name Department  Performance Score  Attendance (%)\n",
       "0    Alice         HR                 85              96\n",
       "1      Bob         IT                 92              88\n",
       "2  Charlie    Finance                 78              90\n",
       "3    David  Marketing                 88              95"
      ]
     },
     "execution_count": 3,
     "metadata": {},
     "output_type": "execute_result"
    }
   ],
   "source": [
    "import pandas as pd\n",
    "\n",
    "# Sample data - you can edit these values or add more rows\n",
    "data = {\n",
    "    'Name': ['Alice', 'Bob', 'Charlie', 'David'],\n",
    "    'Department': ['HR', 'IT', 'Finance', 'Marketing'],\n",
    "    'Performance Score': [85, 92, 78, 88],\n",
    "    'Attendance (%)': [96, 88, 90, 95]\n",
    "}\n",
    "\n",
    "# Convert to DataFrame\n",
    "df = pd.DataFrame(data)\n",
    "\n",
    "# Display it\n",
    "df"
   ]
  },
  {
   "cell_type": "code",
   "execution_count": 5,
   "id": "8e84fe97-5007-43e4-a83a-21854513ef76",
   "metadata": {},
   "outputs": [],
   "source": [
    "df.to_excel(\"sample_report.xlsx\", index=False)"
   ]
  },
  {
   "cell_type": "code",
   "execution_count": 7,
   "id": "692df2d9-e208-4a68-bbe0-0e5982fc8c8b",
   "metadata": {},
   "outputs": [
    {
     "data": {
      "text/plain": [
       "''"
      ]
     },
     "execution_count": 7,
     "metadata": {},
     "output_type": "execute_result"
    }
   ],
   "source": [
    "from fpdf import FPDF\n",
    "\n",
    "pdf = FPDF()\n",
    "pdf.add_page()\n",
    "pdf.set_font(\"Arial\", size=12)\n",
    "\n",
    "pdf.cell(200, 10, txt=\"Employee Performance Report\", ln=True, align='C')\n",
    "pdf.ln(10)\n",
    "\n",
    "# Table Header\n",
    "pdf.set_font(\"Arial\", 'B', size=12)\n",
    "pdf.cell(40, 10, \"Name\", 1)\n",
    "pdf.cell(40, 10, \"Department\", 1)\n",
    "pdf.cell(50, 10, \"Score\", 1)\n",
    "pdf.cell(50, 10, \"Attendance\", 1)\n",
    "pdf.ln()\n",
    "\n",
    "# Table Data\n",
    "pdf.set_font(\"Arial\", size=12)\n",
    "for i in range(len(df)):\n",
    "    pdf.cell(40, 10, df[\"Name\"][i], 1)\n",
    "    pdf.cell(40, 10, df[\"Department\"][i], 1)\n",
    "    pdf.cell(50, 10, str(df[\"Performance Score\"][i]), 1)\n",
    "    pdf.cell(50, 10, str(df[\"Attendance (%)\"][i]) + \"%\", 1)\n",
    "    pdf.ln()\n",
    "\n",
    "# Save the PDF\n",
    "pdf.output(\"final_report.pdf\")"
   ]
  },
  {
   "cell_type": "code",
   "execution_count": null,
   "id": "fb56da2f-688a-4265-83de-4f1e330d3ddb",
   "metadata": {},
   "outputs": [],
   "source": []
  }
 ],
 "metadata": {
  "kernelspec": {
   "display_name": "Python 3 (ipykernel)",
   "language": "python",
   "name": "python3"
  },
  "language_info": {
   "codemirror_mode": {
    "name": "ipython",
    "version": 3
   },
   "file_extension": ".py",
   "mimetype": "text/x-python",
   "name": "python",
   "nbconvert_exporter": "python",
   "pygments_lexer": "ipython3",
   "version": "3.12.4"
  }
 },
 "nbformat": 4,
 "nbformat_minor": 5
}
